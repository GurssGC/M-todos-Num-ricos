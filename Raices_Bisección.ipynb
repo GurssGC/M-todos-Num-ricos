{
 "cells": [
  {
   "cell_type": "code",
   "execution_count": 1,
   "id": "8ff19fcc",
   "metadata": {},
   "outputs": [],
   "source": [
    "import numpy as np\n",
    "import matplotlib.pyplot as plt\n",
    "plt.rcParams.update({\n",
    "    \"text.usetex\": True,\n",
    "    \"font.family\": \"DejaVu Sans\",\n",
    "    \"font.size\": 20,\n",
    "    'figure.autolayout': True})"
   ]
  },
  {
   "cell_type": "code",
   "execution_count": 2,
   "id": "d422c681",
   "metadata": {},
   "outputs": [],
   "source": [
    "def f(x):\n",
    "    return 3.*x**2.-5.*x-2."
   ]
  },
  {
   "cell_type": "code",
   "execution_count": 3,
   "id": "d927bd82",
   "metadata": {},
   "outputs": [],
   "source": [
    "x = np.linspace(-1.0, 0.0, 1000)"
   ]
  },
  {
   "cell_type": "code",
   "execution_count": 4,
   "id": "a3f4577a",
   "metadata": {},
   "outputs": [],
   "source": [
    "y = f(x)"
   ]
  },
  {
   "cell_type": "code",
   "execution_count": 5,
   "id": "d8815213",
   "metadata": {},
   "outputs": [
    {
     "data": {
      "image/png": "[encoded data removed]",
      "text/plain": [
       "<Figure size 432x288 with 1 Axes>"
      ]
     },
     "metadata": {
      "needs_background": "light"
     },
     "output_type": "display_data"
    }
   ],
   "source": [
    "plt.plot(x,y)\n",
    "plt.plot(x,x*0)\n",
    "plt.grid()\n",
    "plt.show()"
   ]
  },
  {
   "cell_type": "code",
   "execution_count": 6,
   "id": "a1a9e934",
   "metadata": {},
   "outputs": [],
   "source": [
    "# Algoritmo de Biseccion\n",
    "def biseccion(f, x0, x1, tol):\n",
    "    if f(x0) * f(x1) > 0:\n",
    "        raise ValueError ('La funcion no cambia de signo en este rango')\n",
    "    \n",
    "    sigue = False\n",
    "    print('{:^10s} {:^10s} {:^10s} {:^10s} {:^10s} {:^10s}'.\\\n",
    "              format('x0','x','x1','f(x0)','f(x)','f(x1)'))\n",
    "    while (not sigue):\n",
    "        x = (x0 + x1) / 2\n",
    "        print('{:10.5f} {:10.5f} {:10.5f} {:10.5f} {:10.5f} {:10.5f}'.\\\n",
    "              format(x0,x,x1,f(x0),f(x),f(x1)))\n",
    "        if f(x0) * f(x) < 0:\n",
    "            x1 = x\n",
    "        else:\n",
    "            x0 = x\n",
    "        sigue = abs(f(x)) < tol\n",
    "    return x"
   ]
  },
  {
   "cell_type": "code",
   "execution_count": 7,
   "id": "d446020f",
   "metadata": {},
   "outputs": [
    {
     "name": "stdout",
     "output_type": "stream",
     "text": [
      "    x0         x          x1       f(x0)       f(x)      f(x1)   \n",
      "   0.00000    1.50000    3.00000   -2.00000   -2.75000   10.00000\n",
      "   1.50000    2.25000    3.00000   -2.75000    1.93750   10.00000\n",
      "   1.50000    1.87500    2.25000   -2.75000   -0.82812    1.93750\n",
      "   1.87500    2.06250    2.25000   -0.82812    0.44922    1.93750\n",
      "   1.87500    1.96875    2.06250   -0.82812   -0.21582    0.44922\n",
      "   1.96875    2.01562    2.06250   -0.21582    0.11011    0.44922\n",
      "   1.96875    1.99219    2.01562   -0.21582   -0.05450    0.11011\n",
      "   1.99219    2.00391    2.01562   -0.05450    0.02739    0.11011\n",
      "   1.99219    1.99805    2.00391   -0.05450   -0.01366    0.02739\n",
      "   1.99805    2.00098    2.00391   -0.01366    0.00684    0.02739\n",
      "   1.99805    1.99951    2.00098   -0.01366   -0.00342    0.00684\n",
      "   1.99951    2.00024    2.00098   -0.00342    0.00171    0.00684\n",
      "   1.99951    1.99988    2.00024   -0.00342   -0.00085    0.00171\n",
      "   1.99988    2.00006    2.00024   -0.00085    0.00043    0.00171\n",
      "   1.99988    1.99997    2.00006   -0.00085   -0.00021    0.00043\n",
      "   1.99997    2.00002    2.00006   -0.00021    0.00011    0.00043\n",
      "   1.99997    1.99999    2.00002   -0.00021   -0.00005    0.00011\n",
      "f(1.999992e+00)=-5.340559e-05\n"
     ]
    },
    {
     "data": {
      "image/png": "[encoded data removed]",
      "text/plain": [
       "<Figure size 432x288 with 1 Axes>"
      ]
     },
     "metadata": {
      "needs_background": "light"
     },
     "output_type": "display_data"
    }
   ],
   "source": [
    "def main():\n",
    "    # valores iniciales\n",
    "    x0 = 0.00\n",
    "    x1 = 3.00\n",
    "    tol = 1e-4\n",
    "    # Llamada al algoritmo\n",
    "    raiz = biseccion(f,x0,x1,tol)\n",
    "    print('f({:e})={:e}'.format(raiz,f(raiz)))\n",
    "    fig = plt.figure()\n",
    "    ax = plt.gca()\n",
    "    plt.plot(x,y)\n",
    "    plt.title('Raíz por método de Bisección')\n",
    "    plt.scatter(raiz,f(raiz))\n",
    "    plt.text(raiz,f(raiz),' Raiz '+str(raiz),color='red')\n",
    "    plt.grid()\n",
    "    \n",
    "    plt.plot(x,x*0)\n",
    "    plt.show()\n",
    "    fig.savefig(\"biseccion.pdf\", bbox_inches='tight')\n",
    "    fig.savefig(\"biseccion.jpg\", bbox_inches='tight')\n",
    "    \n",
    "if __name__ == \"__main__\": main()"
   ]
  },
  {
   "cell_type": "code",
   "execution_count": null,
   "id": "aacbc378",
   "metadata": {},
   "outputs": [],
   "source": []
  }
 ],
 "metadata": {
  "kernelspec": {
   "display_name": "Python 3 (ipykernel)",
   "language": "python",
   "name": "python3"
  },
  "language_info": {
   "codemirror_mode": {
    "name": "ipython",
    "version": 3
   },
   "file_extension": ".py",
   "mimetype": "text/x-python",
   "name": "python",
   "nbconvert_exporter": "python",
   "pygments_lexer": "ipython3",
   "version": "3.10.3"
  }
 },
 "nbformat": 4,
 "nbformat_minor": 5
}
