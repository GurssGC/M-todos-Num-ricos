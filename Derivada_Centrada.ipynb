{
 "cells": [
  {
   "cell_type": "code",
   "execution_count": 1,
   "id": "1848e395",
   "metadata": {},
   "outputs": [],
   "source": [
    "import numpy as np\n",
    "import matplotlib.pyplot as plt"
   ]
  },
  {
   "cell_type": "code",
   "execution_count": 2,
   "id": "1e183c6e",
   "metadata": {},
   "outputs": [],
   "source": [
    "def difer(x, y, orden=1):\n",
    "    # orden = (1:Primer orden, 2:Segundo orden)\n",
    "    \n",
    "    n=x.size\n",
    "    if orden==1:\n",
    "        return [(y[i+1]-y[i-1])/(x[i]-x[i-1])/2\\\n",
    "                for i in range(1,n-1)]\n",
    "    elif orden==2:\n",
    "        return [(y[i+1]-2*y[i]+y[i-1])/(x[i]-x[i-1])**2\\\n",
    "                    for i in range(1,n-1)]\n",
    "    else:\n",
    "        raise ValueError ('Parametro <Orden> incorrecto')"
   ]
  },
  {
   "cell_type": "code",
   "execution_count": 4,
   "id": "0b42487c",
   "metadata": {},
   "outputs": [
    {
     "name": "stdout",
     "output_type": "stream",
     "text": [
      "derivada [-0.6300000000000001, -0.87, -1.04]; posicion [0.5 1.  1.5]\n"
     ]
    },
    {
     "data": {
      "image/png": "[encoded data removed]",
      "text/plain": [
       "<Figure size 432x288 with 1 Axes>"
      ]
     },
     "metadata": {
      "needs_background": "light"
     },
     "output_type": "display_data"
    }
   ],
   "source": [
    "def main():\n",
    "    # valores de posicion\n",
    "    x = np.array([0.0, 0.5, 1.0, 1.5, 2.0])\n",
    "    # valores de presion\n",
    "    y = np.array([1.82, 1.48, 1.19, 0.61, 0.15])\n",
    "    # Llamada al algoritmo\n",
    "    d = difer(x, y, orden=1)\n",
    "    print('derivada {}; posicion {}'.format(d,x[1:4]))\n",
    "    \n",
    "    fig = plt.figure()\n",
    "    plt.plot(x[1:4],d,'o')\n",
    "    plt.grid()\n",
    "    \n",
    "    plt.show()\n",
    "    fig.savefig(\"difer.pdf\", bbox_inches='tight')\n",
    "    \n",
    "if __name__ == \"__main__\": main()"
   ]
  },
  {
   "cell_type": "code",
   "execution_count": null,
   "id": "97dd1da9",
   "metadata": {},
   "outputs": [],
   "source": []
  },
  {
   "cell_type": "code",
   "execution_count": null,
   "id": "e6953a31",
   "metadata": {},
   "outputs": [],
   "source": []
  },
  {
   "cell_type": "code",
   "execution_count": null,
   "id": "14d2bd6b",
   "metadata": {},
   "outputs": [],
   "source": []
  },
  {
   "cell_type": "code",
   "execution_count": null,
   "id": "e90724f3",
   "metadata": {},
   "outputs": [],
   "source": []
  },
  {
   "cell_type": "code",
   "execution_count": null,
   "id": "f21e6f5c",
   "metadata": {},
   "outputs": [],
   "source": []
  }
 ],
 "metadata": {
  "kernelspec": {
   "display_name": "Python 3 (ipykernel)",
   "language": "python",
   "name": "python3"
  },
  "language_info": {
   "codemirror_mode": {
    "name": "ipython",
    "version": 3
   },
   "file_extension": ".py",
   "mimetype": "text/x-python",
   "name": "python",
   "nbconvert_exporter": "python",
   "pygments_lexer": "ipython3",
   "version": "3.10.3"
  }
 },
 "nbformat": 4,
 "nbformat_minor": 5
}
