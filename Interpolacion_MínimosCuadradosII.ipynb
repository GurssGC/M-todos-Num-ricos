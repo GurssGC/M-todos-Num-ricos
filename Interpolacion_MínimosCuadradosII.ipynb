{
 "cells": [
  {
   "cell_type": "markdown",
   "id": "96f3cc44",
   "metadata": {},
   "source": [
    "## Mínimos cuadrados, regresión con polinomio grado 1. II"
   ]
  },
  {
   "cell_type": "code",
   "execution_count": 1,
   "id": "7441e954",
   "metadata": {},
   "outputs": [],
   "source": [
    "# Librerías\n",
    "import numpy as np\n",
    "import sympy as sym\n",
    "import matplotlib.pyplot as plt"
   ]
  },
  {
   "cell_type": "code",
   "execution_count": 3,
   "id": "6a6eae6b",
   "metadata": {},
   "outputs": [
    {
     "name": "stdout",
     "output_type": "stream",
     "text": [
      "7\n"
     ]
    }
   ],
   "source": [
    "# Datos experimentales\n",
    "ti = np.array ([1 ,2 ,3 ,4 ,5 ,6 ,7])\n",
    "xi = np.array ([0.5 ,2.5 ,2.0 ,4.0 ,3.5 ,6.0 ,5.5])\n",
    "n = np.size(ti)\n",
    "print(n)"
   ]
  },
  {
   "cell_type": "code",
   "execution_count": 4,
   "id": "91da89e1",
   "metadata": {},
   "outputs": [],
   "source": [
    "# Sumatorias y medias\n",
    "tm  = np.mean(ti)\n",
    "xm  = np.mean(xi)\n",
    "st  = np.sum(ti)\n",
    "sx  = np.sum(xi)\n",
    "stx = np.sum(ti*xi)\n",
    "st2 = np.sum(ti**2)\n",
    "sx2 = np.sum(xi**2)"
   ]
  },
  {
   "cell_type": "code",
   "execution_count": 5,
   "id": "e49537e8",
   "metadata": {},
   "outputs": [],
   "source": [
    "# Coeficientes a0 y a1\n",
    "a1 = (n*stx-st*sx)/(n*st2-st**2)\n",
    "a0 = xm - a1*tm"
   ]
  },
  {
   "cell_type": "code",
   "execution_count": 6,
   "id": "ad91ab6c",
   "metadata": {},
   "outputs": [
    {
     "name": "stdout",
     "output_type": "stream",
     "text": [
      "x(t)=  0.839285714285714*t + 0.0714285714285712\n"
     ]
    }
   ],
   "source": [
    "# Polinomio grado 1\n",
    "t = sym.Symbol('t')\n",
    "xs = a0 + a1*t\n",
    "print( 'x(t)= ',xs )"
   ]
  },
  {
   "cell_type": "code",
   "execution_count": 7,
   "id": "f3ad916f",
   "metadata": {},
   "outputs": [],
   "source": [
    "# Coeficiente de correlación\n",
    "numerador = n*stx - st*sx\n",
    "raiz1 = np.sqrt(n*st2-st**2)\n",
    "raiz2 = np.sqrt(n*sx2-sx**2)\n",
    "r = numerador/(raiz1*raiz2)"
   ]
  },
  {
   "cell_type": "code",
   "execution_count": 8,
   "id": "2232d0df",
   "metadata": {},
   "outputs": [],
   "source": [
    "# Coeficiente de determinacion\n",
    "r2 = r**2\n",
    "r2_porcentaje = np.around(r2*100,2)"
   ]
  },
  {
   "cell_type": "code",
   "execution_count": 9,
   "id": "e19ed2d7",
   "metadata": {},
   "outputs": [],
   "source": [
    "# Polinomio grado 1\n",
    "def f(t):\n",
    "    return a0 + a1*t\n",
    "\n",
    "t = np.linspace(1, 7, 100)\n",
    "x = f(t)"
   ]
  },
  {
   "cell_type": "code",
   "execution_count": 10,
   "id": "800029c2",
   "metadata": {},
   "outputs": [
    {
     "name": "stdout",
     "output_type": "stream",
     "text": [
      "x(t)= 0.839285714285714*t + 0.0714285714285712\n",
      "Coef_correlación r  =  0.9318356132188194\n",
      "Coef_determinación r2 =  0.8683176100628931\n",
      "86.83% de los datos\n",
      "Está descrito en el modelo lineal\n"
     ]
    }
   ],
   "source": [
    "# SALIDA\n",
    "print('x(t)=',xs)\n",
    "print('Coef_correlación r  = ', r)\n",
    "print('Coef_determinación r2 = ', r2)\n",
    "print(str(r2_porcentaje)+'% de los datos')\n",
    "print('Está descrito en el modelo lineal')"
   ]
  },
  {
   "cell_type": "code",
   "execution_count": 11,
   "id": "44f5d1b2",
   "metadata": {},
   "outputs": [
    {
     "data": {
      "image/png": "[encoded data removed]",
      "text/plain": [
       "<Figure size 576x432 with 1 Axes>"
      ]
     },
     "metadata": {
      "needs_background": "light"
     },
     "output_type": "display_data"
    }
   ],
   "source": [
    "# Grafica\n",
    "plt.figure(figsize=(8,6))\n",
    "plt.plot(ti, xi,'o', label = 'Datos' )\n",
    "plt.plot(t, x, color='orange',  label = 'Regresión Lineal' )\n",
    "plt.xlabel( 'Tiempo ($t$)')\n",
    "plt.ylabel( 'Posición $y(t)$')\n",
    "plt.title( 'Movimiento Uniforme')\n",
    "plt.legend()\n",
    "plt.show()"
   ]
  },
  {
   "cell_type": "code",
   "execution_count": null,
   "id": "2b687810",
   "metadata": {},
   "outputs": [],
   "source": []
  }
 ],
 "metadata": {
  "kernelspec": {
   "display_name": "Python 3 (ipykernel)",
   "language": "python",
   "name": "python3"
  },
  "language_info": {
   "codemirror_mode": {
    "name": "ipython",
    "version": 3
   },
   "file_extension": ".py",
   "mimetype": "text/x-python",
   "name": "python",
   "nbconvert_exporter": "python",
   "pygments_lexer": "ipython3",
   "version": "3.10.3"
  }
 },
 "nbformat": 4,
 "nbformat_minor": 5
}
