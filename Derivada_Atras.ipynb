{
 "cells": [
  {
   "cell_type": "code",
   "execution_count": 10,
   "id": "bc13addd",
   "metadata": {},
   "outputs": [],
   "source": [
    "import numpy as np\n",
    "import matplotlib.pyplot as plt"
   ]
  },
  {
   "cell_type": "code",
   "execution_count": 11,
   "id": "a4947c48",
   "metadata": {},
   "outputs": [],
   "source": [
    "def difer(x, y, orden=1):\n",
    "    # orden = (1:Primer orden, 2:Segundo orden)\n",
    "    \n",
    "    n=x.size\n",
    "    if orden==1:\n",
    "        return [(y[i]-y[i-1])/(x[i]-x[i-1])\\\n",
    "                for i in range(1,n)]\n",
    "    elif orden==2:\n",
    "        return [(y[i]-2*y[i-1]+y[i-2])/(x[i]-x[i-1])**2\\\n",
    "                for i in range(2,n)]\n",
    "    else:\n",
    "        raise ValueError ('Parametro <Orden> incorrecto')"
   ]
  },
  {
   "cell_type": "code",
   "execution_count": 16,
   "id": "6864fa6c",
   "metadata": {},
   "outputs": [
    {
     "name": "stdout",
     "output_type": "stream",
     "text": [
      "derivada -0.9199999999999999; posicion 2.0\n"
     ]
    },
    {
     "data": {
      "image/png": "[encoded data removed]",
      "text/plain": [
       "<Figure size 432x288 with 1 Axes>"
      ]
     },
     "metadata": {
      "needs_background": "light"
     },
     "output_type": "display_data"
    }
   ],
   "source": [
    "def main():\n",
    "    # valores de posicion\n",
    "    x = np.array([0.0, 0.5, 1.0, 1.5, 2.0])\n",
    "    # valores de presion\n",
    "    y = np.array([1.82, 1.48, 1.19, 0.61, 0.15])\n",
    "    # Llamada al algoritmo\n",
    "    d = difer(x, y, orden=1)\n",
    "    print('derivada {}; posicion {}'.format(d[3],x[4]))\n",
    "    \n",
    "    fig = plt.figure()\n",
    "    plt.plot(x[4],d[3],'o')\n",
    "    plt.grid()\n",
    "    plt.show()\n",
    "    \n",
    "if __name__ == \"__main__\": main()"
   ]
  },
  {
   "cell_type": "code",
   "execution_count": null,
   "id": "4917a19b",
   "metadata": {},
   "outputs": [],
   "source": []
  },
  {
   "cell_type": "code",
   "execution_count": null,
   "id": "6c90f535",
   "metadata": {},
   "outputs": [],
   "source": []
  },
  {
   "cell_type": "code",
   "execution_count": null,
   "id": "4fa7d431",
   "metadata": {},
   "outputs": [],
   "source": []
  }
 ],
 "metadata": {
  "kernelspec": {
   "display_name": "Python 3 (ipykernel)",
   "language": "python",
   "name": "python3"
  },
  "language_info": {
   "codemirror_mode": {
    "name": "ipython",
    "version": 3
   },
   "file_extension": ".py",
   "mimetype": "text/x-python",
   "name": "python",
   "nbconvert_exporter": "python",
   "pygments_lexer": "ipython3",
   "version": "3.10.3"
  }
 },
 "nbformat": 4,
 "nbformat_minor": 5
}
