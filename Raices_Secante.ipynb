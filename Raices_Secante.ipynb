{
 "cells": [
  {
   "cell_type": "code",
   "execution_count": 4,
   "id": "9d4aaba3",
   "metadata": {},
   "outputs": [
    {
     "name": "stdout",
     "output_type": "stream",
     "text": [
      "    x0         x1         x     \n",
      "   1.00000    0.00000    2.00000\n",
      "   0.00000    2.00000    1.00000\n",
      "   2.00000    1.00000    1.33333\n",
      "   1.00000    1.33333    1.42857\n",
      "   1.33333    1.42857    1.41379\n",
      "   1.42857    1.41379    1.41421\n",
      "f(1.414211e+00)=-6.007287e-06\n"
     ]
    },
    {
     "data": {
      "image/png": "[encoded data removed]",
      "text/plain": [
       "<Figure size 432x288 with 1 Axes>"
      ]
     },
     "metadata": {
      "needs_background": "light"
     },
     "output_type": "display_data"
    }
   ],
   "source": [
    "import numpy as np\n",
    "import matplotlib.pyplot as plt\n",
    "\n",
    "def secante(f,x0,x1,imax=100,tol=1e-8):\n",
    "    cumple=False\n",
    "    print('{:^10s} {:^10s} {:^10s}'.\\\n",
    "          format('x0','x1','x','f(x0)','f(x1)','f(x)'))\n",
    "    k=0\n",
    "    while (not cumple and k<imax):\n",
    "        x=x1-f(x1)*(x0-x1)/(f(x0)-f(x1))\n",
    "        print('{:10.5f} {:10.5f} {:10.5f}'.\\\n",
    "              format(x0,x1,x,f(x0),f(x1),f(x)))\n",
    "        x0=x1\n",
    "        x1=x\n",
    "        cumple=abs(f(x))<tol\n",
    "        k+=1\n",
    "    if k<imax:\n",
    "        return x\n",
    "    else:\n",
    "        raise ValueError ('La funcion no converge')\n",
    "\n",
    "# Funcion a evaluar\n",
    "def f(x):\n",
    "    return x**2.-2.\n",
    "\n",
    "def main():\n",
    "    # valores iniciales\n",
    "    x0=1\n",
    "    x1=0\n",
    "    # Llamada al algoritmo\n",
    "    raiz=secante(f,x0,x1,100,1e-4)\n",
    "    print('f({:e})={:e}'.format(raiz,f(raiz)))\n",
    "    \n",
    "    x=np.linspace(-3.0,3.0,100)\n",
    "    y=f(x)\n",
    "    \n",
    "    fig = plt.figure()\n",
    "    plt.plot(x,y)\n",
    "    plt.title('Raíces con método de la secante')\n",
    "    plt.scatter(raiz,f(raiz))\n",
    "    plt.text(raiz,f(raiz),' Raiz '+str(raiz),color='red')\n",
    "    plt.grid()\n",
    "    \n",
    "    #plt.show()\n",
    "    #fig.savefig(\"secante.pdf\", bbox_inches='tight')\n",
    "    \n",
    "if __name__ == \"__main__\": main()"
   ]
  },
  {
   "cell_type": "code",
   "execution_count": null,
   "id": "16096bec",
   "metadata": {},
   "outputs": [],
   "source": []
  }
 ],
 "metadata": {
  "kernelspec": {
   "display_name": "Python 3 (ipykernel)",
   "language": "python",
   "name": "python3"
  },
  "language_info": {
   "codemirror_mode": {
    "name": "ipython",
    "version": 3
   },
   "file_extension": ".py",
   "mimetype": "text/x-python",
   "name": "python",
   "nbconvert_exporter": "python",
   "pygments_lexer": "ipython3",
   "version": "3.10.3"
  }
 },
 "nbformat": 4,
 "nbformat_minor": 5
}
