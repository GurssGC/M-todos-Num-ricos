{
 "cells": [
  {
   "cell_type": "code",
   "execution_count": 1,
   "id": "4249e068",
   "metadata": {},
   "outputs": [
    {
     "name": "stdout",
     "output_type": "stream",
     "text": [
      "    x         f(x)      df(x)      d2f(x)  \n",
      "   1.10526   -0.02099   -0.38781\n",
      "   1.00308   -0.00002   -0.01230\n",
      "   1.00000   -0.00000   -0.00001\n",
      "f(1.000002e+00)=-1.134293e-11\n"
     ]
    },
    {
     "data": {
      "image/png": "[encoded data removed]",
      "text/plain": [
       "<Figure size 432x288 with 1 Axes>"
      ]
     },
     "metadata": {
      "needs_background": "light"
     },
     "output_type": "display_data"
    }
   ],
   "source": [
    "import numpy as np\n",
    "import matplotlib.pyplot as plt\n",
    "\n",
    "def newtonRaphsonM(f,df,d2f,x,imax=100,tol=1e-8):\n",
    "    cumple=False\n",
    "    print('{:^10s} {:^10s} {:^10s} {:^10s}'.\\\n",
    "          format('x','f(x)','df(x)','d2f(x)'))\n",
    "    k=0\n",
    "    while (not cumple and k<imax):\n",
    "        x=x-(f(x)*df(x))/(df(x)**2-f(x)*d2f(x))\n",
    "        print('{:10.5f} {:10.5f} {:10.5f}'.\\\n",
    "              format(x,f(x),df(x),d2f(x)))\n",
    "        cumple=abs(f(x))<=tol\n",
    "        k+=1\n",
    "    if k<imax:\n",
    "        return x\n",
    "    else:\n",
    "        raise ValueError ('La funcion no converge')\n",
    "\n",
    "# Funcion a evaluar\n",
    "def f(x):\n",
    "    return x**3.-5.*x**2.+7*x-3\n",
    "# Derivada\n",
    "def df(x):\n",
    "    return 3.*x**2-10.*x+7.\n",
    "# Segunda derivada\n",
    "def d2f(x):\n",
    "    return 6.*x-10.\n",
    "\n",
    "def main():\n",
    "    # valores iniciales\n",
    "    x0=0\n",
    "    # Llamada al algoritmo\n",
    "    raiz=newtonRaphsonM(f,df,d2f,x0)\n",
    "    print('f({:e})={:e}'.format(raiz,f(raiz)))\n",
    "    \n",
    "    x=np.linspace(-1,5)\n",
    "    y=f(x)\n",
    "    \n",
    "    fig = plt.figure()\n",
    "    plt.plot(x,y)\n",
    "    plt.title('$f(x)=x^3-5x^2+7x-3$ con Newton Modificado')\n",
    "    plt.scatter(raiz,f(raiz))\n",
    "    plt.text(raiz,f(raiz),' Raiz '+str(raiz),color='red')\n",
    "    plt.grid()\n",
    "    \n",
    "    plt.show()\n",
    "    fig.savefig(\"newtonraphsonm.pdf\", bbox_inches='tight')\n",
    "    \n",
    "if __name__ == \"__main__\": main()"
   ]
  },
  {
   "cell_type": "code",
   "execution_count": null,
   "id": "3a53c4e6",
   "metadata": {},
   "outputs": [],
   "source": []
  }
 ],
 "metadata": {
  "kernelspec": {
   "display_name": "Python 3 (ipykernel)",
   "language": "python",
   "name": "python3"
  },
  "language_info": {
   "codemirror_mode": {
    "name": "ipython",
    "version": 3
   },
   "file_extension": ".py",
   "mimetype": "text/x-python",
   "name": "python",
   "nbconvert_exporter": "python",
   "pygments_lexer": "ipython3",
   "version": "3.10.3"
  }
 },
 "nbformat": 4,
 "nbformat_minor": 5
}
