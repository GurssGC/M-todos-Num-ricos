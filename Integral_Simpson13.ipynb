{
 "cells": [
  {
   "cell_type": "code",
   "execution_count": 1,
   "id": "ebd7d990",
   "metadata": {},
   "outputs": [],
   "source": [
    "# Líbrerias\n",
    "import numpy as np"
   ]
  },
  {
   "cell_type": "code",
   "execution_count": 2,
   "id": "6df97a4e",
   "metadata": {},
   "outputs": [],
   "source": [
    "# Regla de Simpson 1/3\n",
    "def RSimp13(f, a, b, n):\n",
    "    h  = (b - a)/n\n",
    "    xs = np.linspace( a, b, n+1 )\n",
    "    ys = f(xs)\n",
    "    r  = np.absolute( h*(ys[0] + 4*sum(ys[1:n:2]) + 2*sum(ys[2:n-1:2]) + ys[n])/3 )\n",
    "    return r"
   ]
  },
  {
   "cell_type": "code",
   "execution_count": 3,
   "id": "bc8b3250",
   "metadata": {},
   "outputs": [],
   "source": [
    "# Función a integrar\n",
    "def f(x):\n",
    "    F = np.exp(x)*np.sin(x)\n",
    "    return F"
   ]
  },
  {
   "cell_type": "code",
   "execution_count": 4,
   "id": "017cafb7",
   "metadata": {},
   "outputs": [
    {
     "name": "stdout",
     "output_type": "stream",
     "text": [
      "integral =  12.07034631636351\n"
     ]
    }
   ],
   "source": [
    "def main():\n",
    "    a = 0.0  #Límite inferior\n",
    "    b = np.pi  #Límite superior\n",
    "    n = 1000 #Número de subintervalos DEBE SER MULTIPLO DE 2\n",
    "    A = RSimp13(f, a, b, n)\n",
    "    print('integral = ', A)\n",
    "        \n",
    "if __name__ == \"__main__\": main()"
   ]
  },
  {
   "cell_type": "code",
   "execution_count": null,
   "id": "2f6215ec",
   "metadata": {},
   "outputs": [],
   "source": []
  }
 ],
 "metadata": {
  "kernelspec": {
   "display_name": "Python 3 (ipykernel)",
   "language": "python",
   "name": "python3"
  },
  "language_info": {
   "codemirror_mode": {
    "name": "ipython",
    "version": 3
   },
   "file_extension": ".py",
   "mimetype": "text/x-python",
   "name": "python",
   "nbconvert_exporter": "python",
   "pygments_lexer": "ipython3",
   "version": "3.10.3"
  }
 },
 "nbformat": 4,
 "nbformat_minor": 5
}
