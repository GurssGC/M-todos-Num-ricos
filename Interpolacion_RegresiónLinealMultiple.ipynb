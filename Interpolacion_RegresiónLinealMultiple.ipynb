{
 "cells": [
  {
   "cell_type": "code",
   "execution_count": 1,
   "id": "ff5ea6e8",
   "metadata": {},
   "outputs": [],
   "source": [
    "import numpy as np\n",
    "from scipy.optimize import curve_fit\n",
    "import matplotlib.pyplot as plt"
   ]
  },
  {
   "cell_type": "code",
   "execution_count": 2,
   "id": "efbdc475",
   "metadata": {},
   "outputs": [],
   "source": [
    "x = np. array ([[0.0 ,2.0 ,2.5 ,1.0 ,4.0 ,7.0],\\\n",
    "[0.0 ,1.0 ,2.0 ,3.0 ,6.0, 2.0]])\n",
    "z = np. array ([5.0 ,10.0 ,9.0 ,0.0 ,3.0 ,27.0])"
   ]
  },
  {
   "cell_type": "code",
   "execution_count": 3,
   "id": "6ae25b71",
   "metadata": {},
   "outputs": [],
   "source": [
    "def f(x,a,b,c):\n",
    "    return a+b*x [0]+c*x [1]"
   ]
  },
  {
   "cell_type": "code",
   "execution_count": 4,
   "id": "a7932bf2",
   "metadata": {},
   "outputs": [
    {
     "name": "stdout",
     "output_type": "stream",
     "text": [
      "[ 5.  4. -3.]\n"
     ]
    }
   ],
   "source": [
    "param,_= curve_fit(f,x,z)\n",
    "print ( param )"
   ]
  },
  {
   "cell_type": "code",
   "execution_count": null,
   "id": "ba8a1089",
   "metadata": {},
   "outputs": [],
   "source": []
  },
  {
   "cell_type": "code",
   "execution_count": null,
   "id": "4a195e61",
   "metadata": {},
   "outputs": [],
   "source": []
  },
  {
   "cell_type": "code",
   "execution_count": null,
   "id": "a4d1ff21",
   "metadata": {},
   "outputs": [],
   "source": []
  },
  {
   "cell_type": "code",
   "execution_count": null,
   "id": "1b1dfeaa",
   "metadata": {},
   "outputs": [],
   "source": [
    "\n"
   ]
  },
  {
   "cell_type": "code",
   "execution_count": null,
   "id": "7e4fd1e3",
   "metadata": {},
   "outputs": [],
   "source": []
  },
  {
   "cell_type": "code",
   "execution_count": null,
   "id": "a3a88ead",
   "metadata": {},
   "outputs": [],
   "source": []
  }
 ],
 "metadata": {
  "kernelspec": {
   "display_name": "Python 3 (ipykernel)",
   "language": "python",
   "name": "python3"
  },
  "language_info": {
   "codemirror_mode": {
    "name": "ipython",
    "version": 3
   },
   "file_extension": ".py",
   "mimetype": "text/x-python",
   "name": "python",
   "nbconvert_exporter": "python",
   "pygments_lexer": "ipython3",
   "version": "3.10.3"
  }
 },
 "nbformat": 4,
 "nbformat_minor": 5
}
