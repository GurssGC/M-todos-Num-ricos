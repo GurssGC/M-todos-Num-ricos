{
 "cells": [
  {
   "cell_type": "code",
   "execution_count": 1,
   "id": "ebc071d0",
   "metadata": {},
   "outputs": [],
   "source": [
    "import numpy as np\n",
    "import matplotlib.pyplot as plt"
   ]
  },
  {
   "cell_type": "code",
   "execution_count": 2,
   "id": "5cee3314",
   "metadata": {},
   "outputs": [],
   "source": [
    "def difer(x, y, orden=1):\n",
    "    # orden = (1:Primer orden, 2:Segundo orden)\n",
    "    \n",
    "    n=x.size\n",
    "    if orden==1:\n",
    "        return [(y[i+1]-y[i])/(x[i+1]-x[i])\\\n",
    "                for i in range(0,n-1)]\n",
    "    elif orden==2:\n",
    "        return [(y[i+2]-2*y[i+1]+y[i])/(x[i]-x[i-1])**2\\\n",
    "                for i in range(0,n-2)]\n",
    "    else:\n",
    "        raise ValueError ('Parametro <Orden> incorrecto')"
   ]
  },
  {
   "cell_type": "code",
   "execution_count": 18,
   "id": "cf9c49b1",
   "metadata": {},
   "outputs": [
    {
     "name": "stdout",
     "output_type": "stream",
     "text": [
      "derivada -0.6800000000000002; posicion 0.0\n"
     ]
    },
    {
     "data": {
      "image/png": "[encoded data removed]",
      "text/plain": [
       "<Figure size 432x288 with 1 Axes>"
      ]
     },
     "metadata": {
      "needs_background": "light"
     },
     "output_type": "display_data"
    }
   ],
   "source": [
    "def main():\n",
    "    # valores de posicion\n",
    "    x = np.array([0.0, 0.5, 1.0, 1.5, 2.0])\n",
    "    # valores de presion\n",
    "    y = np.array([1.82, 1.48, 1.19, 0.61, 0.15])\n",
    "    # Llamada al algoritmo\n",
    "    d = difer(x, y, orden=1)\n",
    "    print('derivada {}; posicion {}'.format(d[0],x[0]))\n",
    "    \n",
    "    fig = plt.figure()\n",
    "    plt.plot(x[0], d[0],'o')\n",
    "    plt.grid()\n",
    "    \n",
    "    plt.show()\n",
    "    \n",
    "if __name__ == \"__main__\": main()"
   ]
  },
  {
   "cell_type": "code",
   "execution_count": null,
   "id": "5d5b1969",
   "metadata": {},
   "outputs": [],
   "source": []
  },
  {
   "cell_type": "code",
   "execution_count": null,
   "id": "c3ce828d",
   "metadata": {},
   "outputs": [],
   "source": []
  }
 ],
 "metadata": {
  "kernelspec": {
   "display_name": "Python 3 (ipykernel)",
   "language": "python",
   "name": "python3"
  },
  "language_info": {
   "codemirror_mode": {
    "name": "ipython",
    "version": 3
   },
   "file_extension": ".py",
   "mimetype": "text/x-python",
   "name": "python",
   "nbconvert_exporter": "python",
   "pygments_lexer": "ipython3",
   "version": "3.10.3"
  }
 },
 "nbformat": 4,
 "nbformat_minor": 5
}
